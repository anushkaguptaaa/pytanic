{
 "cells": [
  {
   "cell_type": "markdown",
   "id": "f2a3fedc",
   "metadata": {},
   "source": [
    "# Visualizing Data with Titanic DataSet "
   ]
  },
  {
   "cell_type": "markdown",
   "id": "c50b36f8",
   "metadata": {},
   "source": [
    "Before we start getting our hands dirty with the python and csv files, we first understand what is present in the dataset."
   ]
  },
  {
   "cell_type": "markdown",
   "id": "8178ebfa",
   "metadata": {},
   "source": [
    "The dataset consists of the following columns:\n",
    "1. PassengerId\n",
    "2. Survived\n",
    "3. Pclass\n",
    "4. Name\n",
    "5. Sex \n",
    "6. Age\n",
    "7. SibSp\n",
    "8. Parch\n",
    "9. Ticket\n",
    "10. Fare\n",
    "11. Cabin\n",
    "12. Embarked"
   ]
  },
  {
   "cell_type": "markdown",
   "id": "5a6e147d",
   "metadata": {},
   "source": [
    "<a id=\"top\"></a> \n",
    "### Procedure followed throughout the project\n",
    "1. [Importing Packages](#import)\n",
    "2. [Data Inspection](#inspect)\n",
    "    - [Dataset at a glance](#2.1)\n",
    "    - [Columns at a glance](#2.2)\n",
    "    - [To check whether data contains any null values](#2.3)\n",
    "3. [Data Cleaning](#dcl)\n",
    "    - [Dropping data column](#3.1)\n",
    "    - [Populating the missing ages](#3.2)\n",
    "    - [Missing embarkation ports](#3.3)\n",
    "4. [Data Visualization](#visual)\n",
    "    - [Scatter plot of Fare versus Age](#4.1)\n",
    "    - [Bar Graph to represent the Seat Class taken by passengers](#4.2)\n",
    "    - [Histogram to represent Age](#4.3)\n",
    "    - [Bar plot of the Survival Rate of People](#4.4)\n",
    "    - [Heat Map of Survial vs PClass](#4.5)\n",
    "    - [Cool way to represent Age, Survival and Pclass](#4.6)\n",
    "    - [Violin plot of Gender versus Age](#4.7)\n",
    "    - [Bar plot of Embarkment vs Count keeping Pclass into consideration](#4.8)\n",
    "6. [Sugestion](#suggest)"
   ]
  },
  {
   "cell_type": "markdown",
   "id": "fae5c1ff",
   "metadata": {},
   "source": [
    "<a id=\"import\"></a>\n",
    "## <u>1. Importing Python Packages</u>"
   ]
  },
  {
   "cell_type": "markdown",
   "id": "0e351330",
   "metadata": {},
   "source": [
    "Importing the required python packages for the project"
   ]
  },
  {
   "cell_type": "code",
   "execution_count": 3,
   "id": "13d452a5",
   "metadata": {},
   "outputs": [],
   "source": [
    "import numpy as np\n",
    "import pandas as pd\n",
    "import matplotlib.pyplot as plt\n",
    "import seaborn as sns"
   ]
  },
  {
   "cell_type": "markdown",
   "id": "7769dba4",
   "metadata": {},
   "source": [
    "<a id=\"inspect\"></a>\n",
    "## <u>2. Data inspection</u>"
   ]
  },
  {
   "cell_type": "markdown",
   "id": "68fe2452",
   "metadata": {},
   "source": [
    "We perform the initial inspection by importing the required .csv file into the Jupyter notebook, looking into the file as we are not expected to remember all the details of the present in the file"
   ]
  },
  {
   "cell_type": "markdown",
   "id": "095dbd08",
   "metadata": {},
   "source": [
    "<a id=\"2.1\"></a>\n",
    "### 2.1 Dataset at a glance"
   ]
  },
  {
   "cell_type": "code",
   "execution_count": 4,
   "id": "10f14cdf",
   "metadata": {},
   "outputs": [
    {
     "data": {
      "text/html": [
       "<div>\n",
       "<style scoped>\n",
       "    .dataframe tbody tr th:only-of-type {\n",
       "        vertical-align: middle;\n",
       "    }\n",
       "\n",
       "    .dataframe tbody tr th {\n",
       "        vertical-align: top;\n",
       "    }\n",
       "\n",
       "    .dataframe thead th {\n",
       "        text-align: right;\n",
       "    }\n",
       "</style>\n",
       "<table border=\"1\" class=\"dataframe\">\n",
       "  <thead>\n",
       "    <tr style=\"text-align: right;\">\n",
       "      <th></th>\n",
       "      <th>PassengerId</th>\n",
       "      <th>Survived</th>\n",
       "      <th>Pclass</th>\n",
       "      <th>Name</th>\n",
       "      <th>Sex</th>\n",
       "      <th>Age</th>\n",
       "      <th>SibSp</th>\n",
       "      <th>Parch</th>\n",
       "      <th>Ticket</th>\n",
       "      <th>Fare</th>\n",
       "      <th>Cabin</th>\n",
       "      <th>Embarked</th>\n",
       "    </tr>\n",
       "  </thead>\n",
       "  <tbody>\n",
       "    <tr>\n",
       "      <th>0</th>\n",
       "      <td>1</td>\n",
       "      <td>0</td>\n",
       "      <td>3</td>\n",
       "      <td>Braund, Mr. Owen Harris</td>\n",
       "      <td>male</td>\n",
       "      <td>22.0</td>\n",
       "      <td>1</td>\n",
       "      <td>0</td>\n",
       "      <td>A/5 21171</td>\n",
       "      <td>7.2500</td>\n",
       "      <td>NaN</td>\n",
       "      <td>S</td>\n",
       "    </tr>\n",
       "    <tr>\n",
       "      <th>1</th>\n",
       "      <td>2</td>\n",
       "      <td>1</td>\n",
       "      <td>1</td>\n",
       "      <td>Cumings, Mrs. John Bradley (Florence Briggs Th...</td>\n",
       "      <td>female</td>\n",
       "      <td>38.0</td>\n",
       "      <td>1</td>\n",
       "      <td>0</td>\n",
       "      <td>PC 17599</td>\n",
       "      <td>71.2833</td>\n",
       "      <td>C85</td>\n",
       "      <td>C</td>\n",
       "    </tr>\n",
       "    <tr>\n",
       "      <th>2</th>\n",
       "      <td>3</td>\n",
       "      <td>1</td>\n",
       "      <td>3</td>\n",
       "      <td>Heikkinen, Miss. Laina</td>\n",
       "      <td>female</td>\n",
       "      <td>26.0</td>\n",
       "      <td>0</td>\n",
       "      <td>0</td>\n",
       "      <td>STON/O2. 3101282</td>\n",
       "      <td>7.9250</td>\n",
       "      <td>NaN</td>\n",
       "      <td>S</td>\n",
       "    </tr>\n",
       "    <tr>\n",
       "      <th>3</th>\n",
       "      <td>4</td>\n",
       "      <td>1</td>\n",
       "      <td>1</td>\n",
       "      <td>Futrelle, Mrs. Jacques Heath (Lily May Peel)</td>\n",
       "      <td>female</td>\n",
       "      <td>35.0</td>\n",
       "      <td>1</td>\n",
       "      <td>0</td>\n",
       "      <td>113803</td>\n",
       "      <td>53.1000</td>\n",
       "      <td>C123</td>\n",
       "      <td>S</td>\n",
       "    </tr>\n",
       "    <tr>\n",
       "      <th>4</th>\n",
       "      <td>5</td>\n",
       "      <td>0</td>\n",
       "      <td>3</td>\n",
       "      <td>Allen, Mr. William Henry</td>\n",
       "      <td>male</td>\n",
       "      <td>35.0</td>\n",
       "      <td>0</td>\n",
       "      <td>0</td>\n",
       "      <td>373450</td>\n",
       "      <td>8.0500</td>\n",
       "      <td>NaN</td>\n",
       "      <td>S</td>\n",
       "    </tr>\n",
       "    <tr>\n",
       "      <th>...</th>\n",
       "      <td>...</td>\n",
       "      <td>...</td>\n",
       "      <td>...</td>\n",
       "      <td>...</td>\n",
       "      <td>...</td>\n",
       "      <td>...</td>\n",
       "      <td>...</td>\n",
       "      <td>...</td>\n",
       "      <td>...</td>\n",
       "      <td>...</td>\n",
       "      <td>...</td>\n",
       "      <td>...</td>\n",
       "    </tr>\n",
       "    <tr>\n",
       "      <th>886</th>\n",
       "      <td>887</td>\n",
       "      <td>0</td>\n",
       "      <td>2</td>\n",
       "      <td>Montvila, Rev. Juozas</td>\n",
       "      <td>male</td>\n",
       "      <td>27.0</td>\n",
       "      <td>0</td>\n",
       "      <td>0</td>\n",
       "      <td>211536</td>\n",
       "      <td>13.0000</td>\n",
       "      <td>NaN</td>\n",
       "      <td>S</td>\n",
       "    </tr>\n",
       "    <tr>\n",
       "      <th>887</th>\n",
       "      <td>888</td>\n",
       "      <td>1</td>\n",
       "      <td>1</td>\n",
       "      <td>Graham, Miss. Margaret Edith</td>\n",
       "      <td>female</td>\n",
       "      <td>19.0</td>\n",
       "      <td>0</td>\n",
       "      <td>0</td>\n",
       "      <td>112053</td>\n",
       "      <td>30.0000</td>\n",
       "      <td>B42</td>\n",
       "      <td>S</td>\n",
       "    </tr>\n",
       "    <tr>\n",
       "      <th>888</th>\n",
       "      <td>889</td>\n",
       "      <td>0</td>\n",
       "      <td>3</td>\n",
       "      <td>Johnston, Miss. Catherine Helen \"Carrie\"</td>\n",
       "      <td>female</td>\n",
       "      <td>NaN</td>\n",
       "      <td>1</td>\n",
       "      <td>2</td>\n",
       "      <td>W./C. 6607</td>\n",
       "      <td>23.4500</td>\n",
       "      <td>NaN</td>\n",
       "      <td>S</td>\n",
       "    </tr>\n",
       "    <tr>\n",
       "      <th>889</th>\n",
       "      <td>890</td>\n",
       "      <td>1</td>\n",
       "      <td>1</td>\n",
       "      <td>Behr, Mr. Karl Howell</td>\n",
       "      <td>male</td>\n",
       "      <td>26.0</td>\n",
       "      <td>0</td>\n",
       "      <td>0</td>\n",
       "      <td>111369</td>\n",
       "      <td>30.0000</td>\n",
       "      <td>C148</td>\n",
       "      <td>C</td>\n",
       "    </tr>\n",
       "    <tr>\n",
       "      <th>890</th>\n",
       "      <td>891</td>\n",
       "      <td>0</td>\n",
       "      <td>3</td>\n",
       "      <td>Dooley, Mr. Patrick</td>\n",
       "      <td>male</td>\n",
       "      <td>32.0</td>\n",
       "      <td>0</td>\n",
       "      <td>0</td>\n",
       "      <td>370376</td>\n",
       "      <td>7.7500</td>\n",
       "      <td>NaN</td>\n",
       "      <td>Q</td>\n",
       "    </tr>\n",
       "  </tbody>\n",
       "</table>\n",
       "<p>891 rows × 12 columns</p>\n",
       "</div>"
      ],
      "text/plain": [
       "     PassengerId  Survived  Pclass  \\\n",
       "0              1         0       3   \n",
       "1              2         1       1   \n",
       "2              3         1       3   \n",
       "3              4         1       1   \n",
       "4              5         0       3   \n",
       "..           ...       ...     ...   \n",
       "886          887         0       2   \n",
       "887          888         1       1   \n",
       "888          889         0       3   \n",
       "889          890         1       1   \n",
       "890          891         0       3   \n",
       "\n",
       "                                                  Name     Sex   Age  SibSp  \\\n",
       "0                              Braund, Mr. Owen Harris    male  22.0      1   \n",
       "1    Cumings, Mrs. John Bradley (Florence Briggs Th...  female  38.0      1   \n",
       "2                               Heikkinen, Miss. Laina  female  26.0      0   \n",
       "3         Futrelle, Mrs. Jacques Heath (Lily May Peel)  female  35.0      1   \n",
       "4                             Allen, Mr. William Henry    male  35.0      0   \n",
       "..                                                 ...     ...   ...    ...   \n",
       "886                              Montvila, Rev. Juozas    male  27.0      0   \n",
       "887                       Graham, Miss. Margaret Edith  female  19.0      0   \n",
       "888           Johnston, Miss. Catherine Helen \"Carrie\"  female   NaN      1   \n",
       "889                              Behr, Mr. Karl Howell    male  26.0      0   \n",
       "890                                Dooley, Mr. Patrick    male  32.0      0   \n",
       "\n",
       "     Parch            Ticket     Fare Cabin Embarked  \n",
       "0        0         A/5 21171   7.2500   NaN        S  \n",
       "1        0          PC 17599  71.2833   C85        C  \n",
       "2        0  STON/O2. 3101282   7.9250   NaN        S  \n",
       "3        0            113803  53.1000  C123        S  \n",
       "4        0            373450   8.0500   NaN        S  \n",
       "..     ...               ...      ...   ...      ...  \n",
       "886      0            211536  13.0000   NaN        S  \n",
       "887      0            112053  30.0000   B42        S  \n",
       "888      2        W./C. 6607  23.4500   NaN        S  \n",
       "889      0            111369  30.0000  C148        C  \n",
       "890      0            370376   7.7500   NaN        Q  \n",
       "\n",
       "[891 rows x 12 columns]"
      ]
     },
     "execution_count": 4,
     "metadata": {},
     "output_type": "execute_result"
    }
   ],
   "source": [
    "#reading and refering the data using the variable `data`\n",
    "data = pd.read_csv(\"Titanic-DataSet.csv\")\n",
    "data"
   ]
  },
  {
   "cell_type": "markdown",
   "id": "e9f06c66",
   "metadata": {},
   "source": [
    "<a id=\"2.2\"></a>\n",
    "### 2.2 Columns at a glance"
   ]
  },
  {
   "cell_type": "markdown",
   "id": "5af1fe89",
   "metadata": {},
   "source": [
    "`variable.dtypes` prints the columns of the dataset along with the datatype in a tabular manner"
   ]
  },
  {
   "cell_type": "code",
   "execution_count": 5,
   "id": "62a0cec0",
   "metadata": {},
   "outputs": [
    {
     "data": {
      "text/plain": [
       "PassengerId      int64\n",
       "Survived         int64\n",
       "Pclass           int64\n",
       "Name            object\n",
       "Sex             object\n",
       "Age            float64\n",
       "SibSp            int64\n",
       "Parch            int64\n",
       "Ticket          object\n",
       "Fare           float64\n",
       "Cabin           object\n",
       "Embarked        object\n",
       "dtype: object"
      ]
     },
     "execution_count": 5,
     "metadata": {},
     "output_type": "execute_result"
    }
   ],
   "source": [
    "data.dtypes"
   ]
  },
  {
   "cell_type": "markdown",
   "id": "3fa9cc4c",
   "metadata": {},
   "source": [
    "<a id=\"2.3\"></a>\n",
    "### 2.3 To check whether data contains any null values"
   ]
  },
  {
   "cell_type": "markdown",
   "id": "7a36fb41",
   "metadata": {},
   "source": [
    "This step is crucial during the inspection stage, as this gives the analyst a rough idea of the number of data cells that needs to be filled with calculated values"
   ]
  },
  {
   "cell_type": "code",
   "execution_count": 6,
   "id": "2b55798e",
   "metadata": {},
   "outputs": [
    {
     "data": {
      "text/plain": [
       "PassengerId      0\n",
       "Survived         0\n",
       "Pclass           0\n",
       "Name             0\n",
       "Sex              0\n",
       "Age            177\n",
       "SibSp            0\n",
       "Parch            0\n",
       "Ticket           0\n",
       "Fare             0\n",
       "Cabin          687\n",
       "Embarked         2\n",
       "dtype: int64"
      ]
     },
     "execution_count": 6,
     "metadata": {},
     "output_type": "execute_result"
    }
   ],
   "source": [
    "data.isnull().sum()"
   ]
  },
  {
   "cell_type": "markdown",
   "id": "b5631b3f",
   "metadata": {},
   "source": [
    "#### Conclusion \n",
    "\n",
    "As we can see from the given table, columns like Age, Cabin and Embarked consists of null value which shall be either filled or dropped during the Data Cleaning Process.<br>"
   ]
  },
  {
   "cell_type": "markdown",
   "id": "55d6cf85",
   "metadata": {},
   "source": [
    "<a id=\"dcl\"></a>\n",
    "## <u>3. Data Cleaning</u>"
   ]
  },
  {
   "cell_type": "markdown",
   "id": "7be2f823",
   "metadata": {},
   "source": [
    "One has to clean the data i.e., remove any null values and ambiguities (if any), and try to achieve uniformity in the dataset."
   ]
  },
  {
   "cell_type": "markdown",
   "id": "2163ac22",
   "metadata": {},
   "source": [
    "<a id=\"3.1\"></a>\n",
    "### 3.1 Dropping data column"
   ]
  },
  {
   "cell_type": "markdown",
   "id": "cf6bc9af",
   "metadata": {},
   "source": [
    "Out of the 891 data entries, 687 data cells are empty in the dataset, so we can safely drop the column as it doesn't prove handy for us."
   ]
  },
  {
   "cell_type": "code",
   "execution_count": 7,
   "id": "8223555e",
   "metadata": {},
   "outputs": [],
   "source": [
    "# By using the parameter inplace, we are indicating that this change shall be made permanent in our dataset. \n",
    "# Which by default is false \n",
    "data.drop('Cabin', axis=1, inplace=True)"
   ]
  },
  {
   "cell_type": "markdown",
   "id": "46351a1a",
   "metadata": {},
   "source": [
    "We now print the columns of the dataset to check if `'cabin'` is dropped or not."
   ]
  },
  {
   "cell_type": "code",
   "execution_count": 8,
   "id": "0d4caba3",
   "metadata": {},
   "outputs": [
    {
     "name": "stdout",
     "output_type": "stream",
     "text": [
      "PassengerId\n",
      "Survived\n",
      "Pclass\n",
      "Name\n",
      "Sex\n",
      "Age\n",
      "SibSp\n",
      "Parch\n",
      "Ticket\n",
      "Fare\n",
      "Embarked\n"
     ]
    }
   ],
   "source": [
    "for i in data.columns:\n",
    "    print(i)"
   ]
  },
  {
   "cell_type": "markdown",
   "id": "0937f091",
   "metadata": {},
   "source": [
    "<a id=\"3.2\"></a>\n",
    "### 3.2 Populating the missing ages"
   ]
  },
  {
   "cell_type": "markdown",
   "id": "3d9508ca",
   "metadata": {},
   "source": [
    "Here I plan to clean the data by filling in the **mean value of the age** in cell which have a NULL value"
   ]
  },
  {
   "cell_type": "code",
   "execution_count": 9,
   "id": "55e5f08e",
   "metadata": {},
   "outputs": [
    {
     "data": {
      "text/plain": [
       "PassengerId    0\n",
       "Survived       0\n",
       "Pclass         0\n",
       "Name           0\n",
       "Sex            0\n",
       "Age            0\n",
       "SibSp          0\n",
       "Parch          0\n",
       "Ticket         0\n",
       "Fare           0\n",
       "Embarked       2\n",
       "dtype: int64"
      ]
     },
     "execution_count": 9,
     "metadata": {},
     "output_type": "execute_result"
    }
   ],
   "source": [
    "data['Age'].fillna(data['Age'].mean(), inplace=True)\n",
    "data.isnull().sum()"
   ]
  },
  {
   "cell_type": "markdown",
   "id": "2e40c50b",
   "metadata": {},
   "source": [
    "<a id=\"3.3\"></a>\n",
    "### 3.3 Missing embarkation ports"
   ]
  },
  {
   "cell_type": "markdown",
   "id": "e95b5716",
   "metadata": {},
   "source": [
    "We notice that the `Embarked` column contains some missing value. So we first find out the null entries"
   ]
  },
  {
   "cell_type": "code",
   "execution_count": 10,
   "id": "a90a1012",
   "metadata": {},
   "outputs": [
    {
     "data": {
      "text/html": [
       "<div>\n",
       "<style scoped>\n",
       "    .dataframe tbody tr th:only-of-type {\n",
       "        vertical-align: middle;\n",
       "    }\n",
       "\n",
       "    .dataframe tbody tr th {\n",
       "        vertical-align: top;\n",
       "    }\n",
       "\n",
       "    .dataframe thead th {\n",
       "        text-align: right;\n",
       "    }\n",
       "</style>\n",
       "<table border=\"1\" class=\"dataframe\">\n",
       "  <thead>\n",
       "    <tr style=\"text-align: right;\">\n",
       "      <th></th>\n",
       "      <th>PassengerId</th>\n",
       "      <th>Survived</th>\n",
       "      <th>Pclass</th>\n",
       "      <th>Name</th>\n",
       "      <th>Sex</th>\n",
       "      <th>Age</th>\n",
       "      <th>SibSp</th>\n",
       "      <th>Parch</th>\n",
       "      <th>Ticket</th>\n",
       "      <th>Fare</th>\n",
       "      <th>Embarked</th>\n",
       "    </tr>\n",
       "  </thead>\n",
       "  <tbody>\n",
       "    <tr>\n",
       "      <th>61</th>\n",
       "      <td>62</td>\n",
       "      <td>1</td>\n",
       "      <td>1</td>\n",
       "      <td>Icard, Miss. Amelie</td>\n",
       "      <td>female</td>\n",
       "      <td>38.0</td>\n",
       "      <td>0</td>\n",
       "      <td>0</td>\n",
       "      <td>113572</td>\n",
       "      <td>80.0</td>\n",
       "      <td>NaN</td>\n",
       "    </tr>\n",
       "    <tr>\n",
       "      <th>829</th>\n",
       "      <td>830</td>\n",
       "      <td>1</td>\n",
       "      <td>1</td>\n",
       "      <td>Stone, Mrs. George Nelson (Martha Evelyn)</td>\n",
       "      <td>female</td>\n",
       "      <td>62.0</td>\n",
       "      <td>0</td>\n",
       "      <td>0</td>\n",
       "      <td>113572</td>\n",
       "      <td>80.0</td>\n",
       "      <td>NaN</td>\n",
       "    </tr>\n",
       "  </tbody>\n",
       "</table>\n",
       "</div>"
      ],
      "text/plain": [
       "     PassengerId  Survived  Pclass                                       Name  \\\n",
       "61            62         1       1                        Icard, Miss. Amelie   \n",
       "829          830         1       1  Stone, Mrs. George Nelson (Martha Evelyn)   \n",
       "\n",
       "        Sex   Age  SibSp  Parch  Ticket  Fare Embarked  \n",
       "61   female  38.0      0      0  113572  80.0      NaN  \n",
       "829  female  62.0      0      0  113572  80.0      NaN  "
      ]
     },
     "execution_count": 10,
     "metadata": {},
     "output_type": "execute_result"
    }
   ],
   "source": [
    "# data['Embarked'].isnull().sum()    { to check number of data entries with null value, turns out to be 2 }\n",
    "missingports = data[data['Embarked'].isnull()]\n",
    "missingports"
   ]
  },
  {
   "cell_type": "markdown",
   "id": "32220ca0",
   "metadata": {},
   "source": [
    "We notice that both passengers were travelling with the same ticket number. And we would be filling the `Embarked` column with the mode of the column. For that, we will have to find the mode."
   ]
  },
  {
   "cell_type": "code",
   "execution_count": 11,
   "id": "c3903703",
   "metadata": {},
   "outputs": [
    {
     "name": "stdout",
     "output_type": "stream",
     "text": [
      "Sex       female  male\n",
      "Embarked              \n",
      "C             73    95\n",
      "Q             36    41\n",
      "S            203   441\n"
     ]
    }
   ],
   "source": [
    "table = pd.crosstab(data['Embarked'],data['Sex'])\n",
    "print(table)"
   ]
  },
  {
   "cell_type": "markdown",
   "id": "5cb3ab1e",
   "metadata": {},
   "source": [
    "From the above table we conclude that most women we travelling to **Southampton**. Hence we will be filling the NaN with S in both cases. And then recheck the null status of the Embarked column using `isnull().sum()`"
   ]
  },
  {
   "cell_type": "code",
   "execution_count": 12,
   "id": "dcc2b3e7",
   "metadata": {},
   "outputs": [],
   "source": [
    "data['Embarked'].fillna('S',inplace=True)"
   ]
  },
  {
   "cell_type": "code",
   "execution_count": 13,
   "id": "fc7718ad",
   "metadata": {},
   "outputs": [
    {
     "data": {
      "text/plain": [
       "0"
      ]
     },
     "execution_count": 13,
     "metadata": {},
     "output_type": "execute_result"
    }
   ],
   "source": [
    "data['Embarked'].isnull().sum()"
   ]
  },
  {
   "cell_type": "markdown",
   "id": "ebd8543e",
   "metadata": {},
   "source": [
    "<a id=\"visual\"></a> \n",
    "## <u>4. Data Visualization </u>"
   ]
  },
  {
   "cell_type": "markdown",
   "id": "e063b921",
   "metadata": {},
   "source": [
    "This section of the project consists of basic visualization of the dataset. The purpose of this section is for the better understanding of the dataset in a more clearer and visual manner."
   ]
  },
  {
   "cell_type": "markdown",
   "id": "d9eb0f35",
   "metadata": {},
   "source": [
    "<a id=\"4.1\"></a>\n",
    "### 4.1 Scatter plot of Fare versus Age"
   ]
  },
  {
   "cell_type": "code",
   "execution_count": 14,
   "id": "f23f0a1b",
   "metadata": {},
   "outputs": [
    {
     "data": {
      "image/png": "[encoded data removed]",
      "text/plain": [
       "<Figure size 720x360 with 1 Axes>"
      ]
     },
     "metadata": {
      "needs_background": "light"
     },
     "output_type": "display_data"
    }
   ],
   "source": [
    "f, ax = plt.subplots(1,1, figsize=(10, 5))\n",
    "sns.scatterplot(x=\"Fare\", y=\"Age\", data=data, ax=ax); "
   ]
  },
  {
   "cell_type": "markdown",
   "id": "d7ed57c6",
   "metadata": {},
   "source": [
    "<a id=\"4.2\"></a>\n",
    "### 4.2 Bar Graph to represent the Seat Class taken by passengers"
   ]
  },
  {
   "cell_type": "code",
   "execution_count": 15,
   "id": "5345ea56",
   "metadata": {},
   "outputs": [
    {
     "data": {
      "image/png": "[encoded data removed]",
      "text/plain": [
       "<Figure size 432x288 with 1 Axes>"
      ]
     },
     "metadata": {
      "needs_background": "light"
     },
     "output_type": "display_data"
    }
   ],
   "source": [
    "ax = sns.countplot(x=\"Pclass\", data=data)\n",
    "ax.set_title('data');"
   ]
  },
  {
   "cell_type": "markdown",
   "id": "45ddfff4",
   "metadata": {},
   "source": [
    "<a id=\"4.3\"></a>\n",
    "### 4.3 Histogram to represent Age"
   ]
  },
  {
   "cell_type": "code",
   "execution_count": 17,
   "id": "ea288101",
   "metadata": {},
   "outputs": [
    {
     "data": {
      "text/plain": [
       "<AxesSubplot:xlabel='Age', ylabel='Count'>"
      ]
     },
     "execution_count": 17,
     "metadata": {},
     "output_type": "execute_result"
    },
    {
     "data": {
      "image/png": "[encoded data removed]",
      "text/plain": [
       "<Figure size 432x288 with 1 Axes>"
      ]
     },
     "metadata": {
      "needs_background": "light"
     },
     "output_type": "display_data"
    }
   ],
   "source": [
    "sns.histplot(data['Age'], bins=25, \n",
    "             color = 'navy', alpha = 1, \n",
    "             binwidth=10, shrink=.95)"
   ]
  },
  {
   "cell_type": "markdown",
   "id": "489d8ab5",
   "metadata": {},
   "source": [
    "<a id=\"4.4\"></a>\n",
    "### 4.4 Bar plot of the Survival Rate of People"
   ]
  },
  {
   "cell_type": "code",
   "execution_count": 18,
   "id": "965f8344",
   "metadata": {},
   "outputs": [
    {
     "data": {
      "text/plain": [
       "<seaborn.axisgrid.FacetGrid at 0x208b073d880>"
      ]
     },
     "execution_count": 18,
     "metadata": {},
     "output_type": "execute_result"
    },
    {
     "data": {
      "image/png": "[encoded data removed]",
      "text/plain": [
       "<Figure size 411.875x360 with 1 Axes>"
      ]
     },
     "metadata": {
      "needs_background": "light"
     },
     "output_type": "display_data"
    }
   ],
   "source": [
    "sns.catplot(x =\"Sex\", hue =\"Survived\",\n",
    "kind =\"count\", data = data)"
   ]
  },
  {
   "cell_type": "markdown",
   "id": "695b9dae",
   "metadata": {},
   "source": [
    "<a id=\"4.5\"></a>\n",
    "### 4.5 Heat Map of Survial vs PClass"
   ]
  },
  {
   "cell_type": "code",
   "execution_count": 19,
   "id": "ee6a027f",
   "metadata": {},
   "outputs": [
    {
     "data": {
      "text/plain": [
       "<AxesSubplot:xlabel='Survived', ylabel='Pclass'>"
      ]
     },
     "execution_count": 19,
     "metadata": {},
     "output_type": "execute_result"
    },
    {
     "data": {
      "image/png": "[encoded data removed]",
      "text/plain": [
       "<Figure size 432x288 with 2 Axes>"
      ]
     },
     "metadata": {
      "needs_background": "light"
     },
     "output_type": "display_data"
    }
   ],
   "source": [
    "# Group the dataset by Pclass and Survived and then unstack them\n",
    "group = data.groupby(['Pclass', 'Survived'])\n",
    "pclass_survived = group.size().unstack()\n",
    "\n",
    "# Heatmap - Color encoded 2D representation of data.\n",
    "sns.heatmap(pclass_survived, annot = True, fmt =\"d\")"
   ]
  },
  {
   "cell_type": "markdown",
   "id": "90cf6ac8",
   "metadata": {},
   "source": [
    "<a id=\"4.6\"></a>\n",
    "### 4.6 Cool way to represent Age, Survival and Pclass"
   ]
  },
  {
   "cell_type": "code",
   "execution_count": 20,
   "id": "2e83feab",
   "metadata": {},
   "outputs": [
    {
     "data": {
      "image/png": "[encoded data removed]",
      "text/plain": [
       "<Figure size 864x576 with 3 Axes>"
      ]
     },
     "metadata": {
      "needs_background": "light"
     },
     "output_type": "display_data"
    }
   ],
   "source": [
    "fig = plt.figure(figsize=(12, 8))\n",
    "gs = fig.add_gridspec(3,1)\n",
    "gs.update(hspace= -0.55)\n",
    "\n",
    "axes = list()\n",
    "colors = [\"#022133\", \"#5c693b\", \"#51371c\"]\n",
    "\n",
    "for idx, cls, c in zip(range(3), sorted(data['Pclass'].unique()), colors):\n",
    "    axes.append(fig.add_subplot(gs[idx, 0]))\n",
    "    \n",
    "    # you can also draw density plot with matplotlib + scipy.\n",
    "    sns.kdeplot(x='Age', data=data[data['Pclass']==cls], \n",
    "                fill=True, ax=axes[idx], cut=0, bw_method=0.25, \n",
    "                lw=1.4, edgecolor='lightgray', hue='Survived', \n",
    "                multiple=\"stack\", palette='PuBu', alpha=0.7\n",
    "               ) \n",
    "    \n",
    "    axes[idx].set_ylim(0, 0.04)\n",
    "    axes[idx].set_xlim(0, 85)\n",
    "    \n",
    "    axes[idx].set_yticks([])\n",
    "    if idx != 2 : axes[idx].set_xticks([])\n",
    "    axes[idx].set_ylabel('')\n",
    "    axes[idx].set_xlabel('')\n",
    "    \n",
    "    spines = [\"top\",\"right\",\"left\",\"bottom\"]\n",
    "    for s in spines:\n",
    "        axes[idx].spines[s].set_visible(False)\n",
    "        \n",
    "    axes[idx].patch.set_alpha(0)\n",
    "    axes[idx].text(-0.2,0,f'Pclass {cls}',fontweight=\"light\", fontfamily='serif', fontsize=11,ha=\"right\")\n",
    "    if idx != 1 : axes[idx].get_legend().remove()\n",
    "        \n",
    "fig.text(0.13,0.81,\"Age distribution by Pclass\", fontfamily='serif', fontsize=16)\n",
    "\n",
    "plt.show() "
   ]
  },
  {
   "cell_type": "markdown",
   "id": "46e60a6a",
   "metadata": {},
   "source": [
    "<a id=\"4.7\"></a>\n",
    "### 4.7 Violin plot of Gender versus Age"
   ]
  },
  {
   "cell_type": "code",
   "execution_count": 21,
   "id": "8d2326c2",
   "metadata": {},
   "outputs": [
    {
     "data": {
      "text/plain": [
       "<AxesSubplot:xlabel='Sex', ylabel='Age'>"
      ]
     },
     "execution_count": 21,
     "metadata": {},
     "output_type": "execute_result"
    },
    {
     "data": {
      "image/png": "[encoded data removed]",
      "text/plain": [
       "<Figure size 432x288 with 1 Axes>"
      ]
     },
     "metadata": {
      "needs_background": "light"
     },
     "output_type": "display_data"
    }
   ],
   "source": [
    "# Violinplot Displays distribution of data across all levels of a category.\n",
    "sns.violinplot(x =\"Sex\", y =\"Age\", hue =\"Survived\", data = data, split = True)"
   ]
  },
  {
   "cell_type": "markdown",
   "id": "2331881b",
   "metadata": {},
   "source": [
    "This graph summarises age range of people who were saved. The survival rate is –  \n",
    "\n",
    "- Good for children.\n",
    "- High for women in the age range 20-50.\n",
    "- Less for men as the age increases."
   ]
  },
  {
   "cell_type": "markdown",
   "id": "6f99db35",
   "metadata": {},
   "source": [
    "<a id=\"4.8\"></a>\n",
    "### 4.8 Count plot of Embarkment vs Count keeping Pclass into consideration"
   ]
  },
  {
   "cell_type": "code",
   "execution_count": 22,
   "id": "625b02cc",
   "metadata": {},
   "outputs": [
    {
     "data": {
      "text/plain": [
       "<seaborn.axisgrid.FacetGrid at 0x208b0a21d30>"
      ]
     },
     "execution_count": 22,
     "metadata": {},
     "output_type": "execute_result"
    },
    {
     "data": {
      "image/png": "[encoded data removed]",
      "text/plain": [
       "<Figure size 1131.88x360 with 3 Axes>"
      ]
     },
     "metadata": {
      "needs_background": "light"
     },
     "output_type": "display_data"
    }
   ],
   "source": [
    "sns.catplot(x ='Embarked', hue ='Survived',\n",
    "            kind ='count', col ='Pclass', \n",
    "            data = data)"
   ]
  },
  {
   "cell_type": "markdown",
   "id": "cda7f7d4",
   "metadata": {},
   "source": [
    "<a id=\"suggest\"></a>\n",
    "### Suggestion\n",
    "As with most datasets the more information we have the better it can be analysed. I believe that we could add the following variables:\n",
    "- life boat number - the reason why there were so many fatalities on board the Titanic was due to there not been enough lifeboats. I believe that if we knew the lifeboat number and the capacity of a lifeboat we could determine if it was possible for more people to survive"
   ]
  },
  {
   "cell_type": "markdown",
   "id": "fe6ce9f4",
   "metadata": {},
   "source": [
    "[Back to Top](#top)"
   ]
  }
 ],
 "metadata": {
  "kernelspec": {
   "display_name": "Python 3",
   "language": "python",
   "name": "python3"
  },
  "language_info": {
   "codemirror_mode": {
    "name": "ipython",
    "version": 3
   },
   "file_extension": ".py",
   "mimetype": "text/x-python",
   "name": "python",
   "nbconvert_exporter": "python",
   "pygments_lexer": "ipython3",
   "version": "3.8.12"
  }
 },
 "nbformat": 4,
 "nbformat_minor": 5
}
